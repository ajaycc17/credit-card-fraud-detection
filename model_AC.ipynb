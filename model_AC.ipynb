{
 "cells": [
  {
   "cell_type": "markdown",
   "metadata": {},
   "source": [
    "### Import Required Libraries"
   ]
  },
  {
   "cell_type": "code",
   "execution_count": 1,
   "metadata": {},
   "outputs": [],
   "source": [
    "# import required libraries\n",
    "import pandas as pd\n",
    "import matplotlib.pyplot as plt\n",
    "import seaborn as sns\n",
    "from sklearn import tree\n",
    "from sklearn.model_selection import StratifiedShuffleSplit\n",
    "from sklearn.preprocessing import RobustScaler\n",
    "from sklearn.tree import DecisionTreeClassifier\n",
    "from sklearn.ensemble import RandomForestClassifier\n",
    "from sklearn.feature_selection import mutual_info_classif\n",
    "from sklearn.feature_selection import SelectKBest\n",
    "from sklearn.model_selection import GridSearchCV\n",
    "from sklearn.metrics import confusion_matrix, accuracy_score, precision_score, recall_score, f1_score\n",
    "from sklearn.metrics import roc_auc_score\n",
    "from sklearn.metrics import precision_recall_curve\n",
    "\n",
    "# ignore warnings\n",
    "import warnings\n",
    "warnings.filterwarnings('ignore')\n"
   ]
  },
  {
   "cell_type": "code",
   "execution_count": 2,
   "metadata": {},
   "outputs": [],
   "source": [
    "# load data set\n",
    "train_data = pd.read_csv(\"training_data.csv\")\n",
    "train_class = pd.read_csv(\"train_data_classlabels.csv\")\n",
    "test_data = pd.read_csv(\"testing_data.csv\")"
   ]
  },
  {
   "cell_type": "code",
   "execution_count": 3,
   "metadata": {},
   "outputs": [
    {
     "data": {
      "text/html": [
       "<div>\n",
       "<style scoped>\n",
       "    .dataframe tbody tr th:only-of-type {\n",
       "        vertical-align: middle;\n",
       "    }\n",
       "\n",
       "    .dataframe tbody tr th {\n",
       "        vertical-align: top;\n",
       "    }\n",
       "\n",
       "    .dataframe thead th {\n",
       "        text-align: right;\n",
       "    }\n",
       "</style>\n",
       "<table border=\"1\" class=\"dataframe\">\n",
       "  <thead>\n",
       "    <tr style=\"text-align: right;\">\n",
       "      <th></th>\n",
       "      <th>Time</th>\n",
       "      <th>V1</th>\n",
       "      <th>V2</th>\n",
       "      <th>V3</th>\n",
       "      <th>V4</th>\n",
       "      <th>V5</th>\n",
       "      <th>V6</th>\n",
       "      <th>V7</th>\n",
       "      <th>V8</th>\n",
       "      <th>V9</th>\n",
       "      <th>...</th>\n",
       "      <th>V20</th>\n",
       "      <th>V21</th>\n",
       "      <th>V22</th>\n",
       "      <th>V23</th>\n",
       "      <th>V24</th>\n",
       "      <th>V25</th>\n",
       "      <th>V26</th>\n",
       "      <th>V27</th>\n",
       "      <th>V28</th>\n",
       "      <th>Amount</th>\n",
       "    </tr>\n",
       "  </thead>\n",
       "  <tbody>\n",
       "    <tr>\n",
       "      <th>0</th>\n",
       "      <td>50920</td>\n",
       "      <td>1.086640</td>\n",
       "      <td>0.148385</td>\n",
       "      <td>0.120522</td>\n",
       "      <td>0.974415</td>\n",
       "      <td>-0.035925</td>\n",
       "      <td>-0.406007</td>\n",
       "      <td>0.270339</td>\n",
       "      <td>-0.139679</td>\n",
       "      <td>-0.411854</td>\n",
       "      <td>...</td>\n",
       "      <td>0.086793</td>\n",
       "      <td>0.112405</td>\n",
       "      <td>0.221430</td>\n",
       "      <td>-0.226960</td>\n",
       "      <td>0.046246</td>\n",
       "      <td>0.708183</td>\n",
       "      <td>-0.336475</td>\n",
       "      <td>0.002364</td>\n",
       "      <td>0.021463</td>\n",
       "      <td>76.10</td>\n",
       "    </tr>\n",
       "    <tr>\n",
       "      <th>1</th>\n",
       "      <td>34737</td>\n",
       "      <td>1.294054</td>\n",
       "      <td>0.152664</td>\n",
       "      <td>0.195524</td>\n",
       "      <td>0.540694</td>\n",
       "      <td>-0.267245</td>\n",
       "      <td>-0.691144</td>\n",
       "      <td>0.001673</td>\n",
       "      <td>-0.175527</td>\n",
       "      <td>0.179203</td>\n",
       "      <td>...</td>\n",
       "      <td>-0.087916</td>\n",
       "      <td>0.055098</td>\n",
       "      <td>0.213211</td>\n",
       "      <td>-0.163730</td>\n",
       "      <td>-0.064862</td>\n",
       "      <td>0.606466</td>\n",
       "      <td>0.504450</td>\n",
       "      <td>-0.033823</td>\n",
       "      <td>0.006327</td>\n",
       "      <td>5.95</td>\n",
       "    </tr>\n",
       "    <tr>\n",
       "      <th>2</th>\n",
       "      <td>11090</td>\n",
       "      <td>-0.352305</td>\n",
       "      <td>0.614321</td>\n",
       "      <td>2.000903</td>\n",
       "      <td>-0.403523</td>\n",
       "      <td>-0.409279</td>\n",
       "      <td>-0.395518</td>\n",
       "      <td>0.094420</td>\n",
       "      <td>0.066611</td>\n",
       "      <td>0.995869</td>\n",
       "      <td>...</td>\n",
       "      <td>-0.059598</td>\n",
       "      <td>0.055236</td>\n",
       "      <td>0.312846</td>\n",
       "      <td>-0.146312</td>\n",
       "      <td>0.317882</td>\n",
       "      <td>-0.307554</td>\n",
       "      <td>0.975876</td>\n",
       "      <td>-0.047407</td>\n",
       "      <td>0.033127</td>\n",
       "      <td>14.95</td>\n",
       "    </tr>\n",
       "    <tr>\n",
       "      <th>3</th>\n",
       "      <td>23194</td>\n",
       "      <td>-2.049784</td>\n",
       "      <td>1.004759</td>\n",
       "      <td>1.726403</td>\n",
       "      <td>1.600998</td>\n",
       "      <td>-1.121759</td>\n",
       "      <td>0.421037</td>\n",
       "      <td>-0.768145</td>\n",
       "      <td>1.133876</td>\n",
       "      <td>1.207850</td>\n",
       "      <td>...</td>\n",
       "      <td>0.155066</td>\n",
       "      <td>0.085733</td>\n",
       "      <td>0.445599</td>\n",
       "      <td>-0.234451</td>\n",
       "      <td>0.040248</td>\n",
       "      <td>0.325920</td>\n",
       "      <td>-0.050118</td>\n",
       "      <td>0.257527</td>\n",
       "      <td>-0.015911</td>\n",
       "      <td>76.60</td>\n",
       "    </tr>\n",
       "    <tr>\n",
       "      <th>4</th>\n",
       "      <td>38531</td>\n",
       "      <td>-0.289738</td>\n",
       "      <td>0.880936</td>\n",
       "      <td>1.787349</td>\n",
       "      <td>0.887265</td>\n",
       "      <td>0.125174</td>\n",
       "      <td>-0.845201</td>\n",
       "      <td>1.256896</td>\n",
       "      <td>-0.632290</td>\n",
       "      <td>-0.260688</td>\n",
       "      <td>...</td>\n",
       "      <td>0.073293</td>\n",
       "      <td>0.062741</td>\n",
       "      <td>0.503452</td>\n",
       "      <td>-0.202127</td>\n",
       "      <td>0.709686</td>\n",
       "      <td>-0.190366</td>\n",
       "      <td>-0.386543</td>\n",
       "      <td>-0.305748</td>\n",
       "      <td>-0.307859</td>\n",
       "      <td>30.54</td>\n",
       "    </tr>\n",
       "  </tbody>\n",
       "</table>\n",
       "<p>5 rows × 30 columns</p>\n",
       "</div>"
      ],
      "text/plain": [
       "    Time        V1        V2        V3        V4        V5        V6  \\\n",
       "0  50920  1.086640  0.148385  0.120522  0.974415 -0.035925 -0.406007   \n",
       "1  34737  1.294054  0.152664  0.195524  0.540694 -0.267245 -0.691144   \n",
       "2  11090 -0.352305  0.614321  2.000903 -0.403523 -0.409279 -0.395518   \n",
       "3  23194 -2.049784  1.004759  1.726403  1.600998 -1.121759  0.421037   \n",
       "4  38531 -0.289738  0.880936  1.787349  0.887265  0.125174 -0.845201   \n",
       "\n",
       "         V7        V8        V9  ...       V20       V21       V22       V23  \\\n",
       "0  0.270339 -0.139679 -0.411854  ...  0.086793  0.112405  0.221430 -0.226960   \n",
       "1  0.001673 -0.175527  0.179203  ... -0.087916  0.055098  0.213211 -0.163730   \n",
       "2  0.094420  0.066611  0.995869  ... -0.059598  0.055236  0.312846 -0.146312   \n",
       "3 -0.768145  1.133876  1.207850  ...  0.155066  0.085733  0.445599 -0.234451   \n",
       "4  1.256896 -0.632290 -0.260688  ...  0.073293  0.062741  0.503452 -0.202127   \n",
       "\n",
       "        V24       V25       V26       V27       V28  Amount  \n",
       "0  0.046246  0.708183 -0.336475  0.002364  0.021463   76.10  \n",
       "1 -0.064862  0.606466  0.504450 -0.033823  0.006327    5.95  \n",
       "2  0.317882 -0.307554  0.975876 -0.047407  0.033127   14.95  \n",
       "3  0.040248  0.325920 -0.050118  0.257527 -0.015911   76.60  \n",
       "4  0.709686 -0.190366 -0.386543 -0.305748 -0.307859   30.54  \n",
       "\n",
       "[5 rows x 30 columns]"
      ]
     },
     "execution_count": 3,
     "metadata": {},
     "output_type": "execute_result"
    }
   ],
   "source": [
    "train_data.head()"
   ]
  },
  {
   "cell_type": "markdown",
   "metadata": {},
   "source": [
    "### Data Pre-processing"
   ]
  },
  {
   "cell_type": "code",
   "execution_count": 4,
   "metadata": {},
   "outputs": [
    {
     "name": "stdout",
     "output_type": "stream",
     "text": [
      "<class 'pandas.core.frame.DataFrame'>\n",
      "RangeIndex: 57116 entries, 0 to 57115\n",
      "Data columns (total 30 columns):\n",
      " #   Column  Non-Null Count  Dtype  \n",
      "---  ------  --------------  -----  \n",
      " 0   Time    57116 non-null  int64  \n",
      " 1   V1      57116 non-null  float64\n",
      " 2   V2      57116 non-null  float64\n",
      " 3   V3      57116 non-null  float64\n",
      " 4   V4      57116 non-null  float64\n",
      " 5   V5      57116 non-null  float64\n",
      " 6   V6      57116 non-null  float64\n",
      " 7   V7      57116 non-null  float64\n",
      " 8   V8      57116 non-null  float64\n",
      " 9   V9      57116 non-null  float64\n",
      " 10  V10     57116 non-null  float64\n",
      " 11  V11     57116 non-null  float64\n",
      " 12  V12     57116 non-null  float64\n",
      " 13  V13     57116 non-null  float64\n",
      " 14  V14     57116 non-null  float64\n",
      " 15  V15     57116 non-null  float64\n",
      " 16  V16     57116 non-null  float64\n",
      " 17  V17     57116 non-null  float64\n",
      " 18  V18     57116 non-null  float64\n",
      " 19  V19     57116 non-null  float64\n",
      " 20  V20     57116 non-null  float64\n",
      " 21  V21     57116 non-null  float64\n",
      " 22  V22     57116 non-null  float64\n",
      " 23  V23     57116 non-null  float64\n",
      " 24  V24     57116 non-null  float64\n",
      " 25  V25     57116 non-null  float64\n",
      " 26  V26     57116 non-null  float64\n",
      " 27  V27     57116 non-null  float64\n",
      " 28  V28     57116 non-null  float64\n",
      " 29  Amount  57116 non-null  float64\n",
      "dtypes: float64(29), int64(1)\n",
      "memory usage: 13.1 MB\n"
     ]
    }
   ],
   "source": [
    "train_data.info()"
   ]
  },
  {
   "cell_type": "code",
   "execution_count": 5,
   "metadata": {},
   "outputs": [
    {
     "data": {
      "text/html": [
       "<div>\n",
       "<style scoped>\n",
       "    .dataframe tbody tr th:only-of-type {\n",
       "        vertical-align: middle;\n",
       "    }\n",
       "\n",
       "    .dataframe tbody tr th {\n",
       "        vertical-align: top;\n",
       "    }\n",
       "\n",
       "    .dataframe thead th {\n",
       "        text-align: right;\n",
       "    }\n",
       "</style>\n",
       "<table border=\"1\" class=\"dataframe\">\n",
       "  <thead>\n",
       "    <tr style=\"text-align: right;\">\n",
       "      <th></th>\n",
       "      <th>Time</th>\n",
       "      <th>V1</th>\n",
       "      <th>V2</th>\n",
       "      <th>V3</th>\n",
       "      <th>V4</th>\n",
       "      <th>V5</th>\n",
       "      <th>V6</th>\n",
       "      <th>V7</th>\n",
       "      <th>V8</th>\n",
       "      <th>V9</th>\n",
       "      <th>...</th>\n",
       "      <th>V20</th>\n",
       "      <th>V21</th>\n",
       "      <th>V22</th>\n",
       "      <th>V23</th>\n",
       "      <th>V24</th>\n",
       "      <th>V25</th>\n",
       "      <th>V26</th>\n",
       "      <th>V27</th>\n",
       "      <th>V28</th>\n",
       "      <th>Amount</th>\n",
       "    </tr>\n",
       "  </thead>\n",
       "  <tbody>\n",
       "    <tr>\n",
       "      <th>count</th>\n",
       "      <td>57116.000000</td>\n",
       "      <td>57116.000000</td>\n",
       "      <td>57116.000000</td>\n",
       "      <td>57116.000000</td>\n",
       "      <td>57116.000000</td>\n",
       "      <td>57116.000000</td>\n",
       "      <td>57116.000000</td>\n",
       "      <td>57116.000000</td>\n",
       "      <td>57116.000000</td>\n",
       "      <td>57116.000000</td>\n",
       "      <td>...</td>\n",
       "      <td>57116.000000</td>\n",
       "      <td>57116.000000</td>\n",
       "      <td>57116.000000</td>\n",
       "      <td>57116.000000</td>\n",
       "      <td>57116.000000</td>\n",
       "      <td>57116.000000</td>\n",
       "      <td>57116.000000</td>\n",
       "      <td>57116.000000</td>\n",
       "      <td>57116.000000</td>\n",
       "      <td>57116.000000</td>\n",
       "    </tr>\n",
       "    <tr>\n",
       "      <th>mean</th>\n",
       "      <td>34983.116097</td>\n",
       "      <td>-0.247795</td>\n",
       "      <td>-0.022058</td>\n",
       "      <td>0.679284</td>\n",
       "      <td>0.169507</td>\n",
       "      <td>-0.269839</td>\n",
       "      <td>0.099197</td>\n",
       "      <td>-0.111731</td>\n",
       "      <td>0.053520</td>\n",
       "      <td>0.013406</td>\n",
       "      <td>...</td>\n",
       "      <td>0.044174</td>\n",
       "      <td>-0.029317</td>\n",
       "      <td>-0.106932</td>\n",
       "      <td>-0.037896</td>\n",
       "      <td>0.006357</td>\n",
       "      <td>0.134607</td>\n",
       "      <td>0.021532</td>\n",
       "      <td>0.002800</td>\n",
       "      <td>0.001178</td>\n",
       "      <td>96.941060</td>\n",
       "    </tr>\n",
       "    <tr>\n",
       "      <th>std</th>\n",
       "      <td>14565.105294</td>\n",
       "      <td>1.864050</td>\n",
       "      <td>1.631035</td>\n",
       "      <td>1.410986</td>\n",
       "      <td>1.373157</td>\n",
       "      <td>1.377401</td>\n",
       "      <td>1.301175</td>\n",
       "      <td>1.247802</td>\n",
       "      <td>1.249071</td>\n",
       "      <td>1.157104</td>\n",
       "      <td>...</td>\n",
       "      <td>0.756907</td>\n",
       "      <td>0.746801</td>\n",
       "      <td>0.639153</td>\n",
       "      <td>0.626419</td>\n",
       "      <td>0.597128</td>\n",
       "      <td>0.439791</td>\n",
       "      <td>0.497490</td>\n",
       "      <td>0.379231</td>\n",
       "      <td>0.295386</td>\n",
       "      <td>270.411899</td>\n",
       "    </tr>\n",
       "    <tr>\n",
       "      <th>min</th>\n",
       "      <td>0.000000</td>\n",
       "      <td>-36.802320</td>\n",
       "      <td>-63.344698</td>\n",
       "      <td>-33.680984</td>\n",
       "      <td>-5.172595</td>\n",
       "      <td>-42.147898</td>\n",
       "      <td>-23.496714</td>\n",
       "      <td>-31.764946</td>\n",
       "      <td>-73.216718</td>\n",
       "      <td>-9.283925</td>\n",
       "      <td>...</td>\n",
       "      <td>-15.806476</td>\n",
       "      <td>-34.830382</td>\n",
       "      <td>-10.933144</td>\n",
       "      <td>-26.751119</td>\n",
       "      <td>-2.836627</td>\n",
       "      <td>-7.495741</td>\n",
       "      <td>-2.534330</td>\n",
       "      <td>-7.976100</td>\n",
       "      <td>-9.617915</td>\n",
       "      <td>0.000000</td>\n",
       "    </tr>\n",
       "    <tr>\n",
       "      <th>25%</th>\n",
       "      <td>28865.000000</td>\n",
       "      <td>-1.009543</td>\n",
       "      <td>-0.589424</td>\n",
       "      <td>0.192506</td>\n",
       "      <td>-0.723950</td>\n",
       "      <td>-0.887752</td>\n",
       "      <td>-0.640141</td>\n",
       "      <td>-0.601216</td>\n",
       "      <td>-0.143972</td>\n",
       "      <td>-0.675191</td>\n",
       "      <td>...</td>\n",
       "      <td>-0.169140</td>\n",
       "      <td>-0.226106</td>\n",
       "      <td>-0.525390</td>\n",
       "      <td>-0.177981</td>\n",
       "      <td>-0.324780</td>\n",
       "      <td>-0.129791</td>\n",
       "      <td>-0.329274</td>\n",
       "      <td>-0.063496</td>\n",
       "      <td>-0.006171</td>\n",
       "      <td>7.600000</td>\n",
       "    </tr>\n",
       "    <tr>\n",
       "      <th>50%</th>\n",
       "      <td>38190.500000</td>\n",
       "      <td>-0.246743</td>\n",
       "      <td>0.074316</td>\n",
       "      <td>0.768041</td>\n",
       "      <td>0.189497</td>\n",
       "      <td>-0.301686</td>\n",
       "      <td>-0.151700</td>\n",
       "      <td>-0.071382</td>\n",
       "      <td>0.065374</td>\n",
       "      <td>-0.073948</td>\n",
       "      <td>...</td>\n",
       "      <td>-0.024862</td>\n",
       "      <td>-0.060934</td>\n",
       "      <td>-0.081307</td>\n",
       "      <td>-0.049691</td>\n",
       "      <td>0.062927</td>\n",
       "      <td>0.172505</td>\n",
       "      <td>-0.076244</td>\n",
       "      <td>0.009027</td>\n",
       "      <td>0.022540</td>\n",
       "      <td>26.265000</td>\n",
       "    </tr>\n",
       "    <tr>\n",
       "      <th>75%</th>\n",
       "      <td>46008.250000</td>\n",
       "      <td>1.153809</td>\n",
       "      <td>0.724232</td>\n",
       "      <td>1.399763</td>\n",
       "      <td>1.052439</td>\n",
       "      <td>0.268297</td>\n",
       "      <td>0.491501</td>\n",
       "      <td>0.423102</td>\n",
       "      <td>0.345135</td>\n",
       "      <td>0.663857</td>\n",
       "      <td>...</td>\n",
       "      <td>0.169582</td>\n",
       "      <td>0.115353</td>\n",
       "      <td>0.307514</td>\n",
       "      <td>0.080841</td>\n",
       "      <td>0.403506</td>\n",
       "      <td>0.421531</td>\n",
       "      <td>0.300119</td>\n",
       "      <td>0.082192</td>\n",
       "      <td>0.075379</td>\n",
       "      <td>88.000000</td>\n",
       "    </tr>\n",
       "    <tr>\n",
       "      <th>max</th>\n",
       "      <td>54280.000000</td>\n",
       "      <td>1.634039</td>\n",
       "      <td>18.902453</td>\n",
       "      <td>4.101716</td>\n",
       "      <td>16.715537</td>\n",
       "      <td>34.099309</td>\n",
       "      <td>22.529298</td>\n",
       "      <td>36.677268</td>\n",
       "      <td>20.007208</td>\n",
       "      <td>10.392889</td>\n",
       "      <td>...</td>\n",
       "      <td>39.420904</td>\n",
       "      <td>22.614889</td>\n",
       "      <td>10.503090</td>\n",
       "      <td>17.297845</td>\n",
       "      <td>4.014444</td>\n",
       "      <td>5.525093</td>\n",
       "      <td>3.517346</td>\n",
       "      <td>11.135740</td>\n",
       "      <td>5.678671</td>\n",
       "      <td>19656.530000</td>\n",
       "    </tr>\n",
       "  </tbody>\n",
       "</table>\n",
       "<p>8 rows × 30 columns</p>\n",
       "</div>"
      ],
      "text/plain": [
       "               Time            V1            V2            V3            V4  \\\n",
       "count  57116.000000  57116.000000  57116.000000  57116.000000  57116.000000   \n",
       "mean   34983.116097     -0.247795     -0.022058      0.679284      0.169507   \n",
       "std    14565.105294      1.864050      1.631035      1.410986      1.373157   \n",
       "min        0.000000    -36.802320    -63.344698    -33.680984     -5.172595   \n",
       "25%    28865.000000     -1.009543     -0.589424      0.192506     -0.723950   \n",
       "50%    38190.500000     -0.246743      0.074316      0.768041      0.189497   \n",
       "75%    46008.250000      1.153809      0.724232      1.399763      1.052439   \n",
       "max    54280.000000      1.634039     18.902453      4.101716     16.715537   \n",
       "\n",
       "                 V5            V6            V7            V8            V9  \\\n",
       "count  57116.000000  57116.000000  57116.000000  57116.000000  57116.000000   \n",
       "mean      -0.269839      0.099197     -0.111731      0.053520      0.013406   \n",
       "std        1.377401      1.301175      1.247802      1.249071      1.157104   \n",
       "min      -42.147898    -23.496714    -31.764946    -73.216718     -9.283925   \n",
       "25%       -0.887752     -0.640141     -0.601216     -0.143972     -0.675191   \n",
       "50%       -0.301686     -0.151700     -0.071382      0.065374     -0.073948   \n",
       "75%        0.268297      0.491501      0.423102      0.345135      0.663857   \n",
       "max       34.099309     22.529298     36.677268     20.007208     10.392889   \n",
       "\n",
       "       ...           V20           V21           V22           V23  \\\n",
       "count  ...  57116.000000  57116.000000  57116.000000  57116.000000   \n",
       "mean   ...      0.044174     -0.029317     -0.106932     -0.037896   \n",
       "std    ...      0.756907      0.746801      0.639153      0.626419   \n",
       "min    ...    -15.806476    -34.830382    -10.933144    -26.751119   \n",
       "25%    ...     -0.169140     -0.226106     -0.525390     -0.177981   \n",
       "50%    ...     -0.024862     -0.060934     -0.081307     -0.049691   \n",
       "75%    ...      0.169582      0.115353      0.307514      0.080841   \n",
       "max    ...     39.420904     22.614889     10.503090     17.297845   \n",
       "\n",
       "                V24           V25           V26           V27           V28  \\\n",
       "count  57116.000000  57116.000000  57116.000000  57116.000000  57116.000000   \n",
       "mean       0.006357      0.134607      0.021532      0.002800      0.001178   \n",
       "std        0.597128      0.439791      0.497490      0.379231      0.295386   \n",
       "min       -2.836627     -7.495741     -2.534330     -7.976100     -9.617915   \n",
       "25%       -0.324780     -0.129791     -0.329274     -0.063496     -0.006171   \n",
       "50%        0.062927      0.172505     -0.076244      0.009027      0.022540   \n",
       "75%        0.403506      0.421531      0.300119      0.082192      0.075379   \n",
       "max        4.014444      5.525093      3.517346     11.135740      5.678671   \n",
       "\n",
       "             Amount  \n",
       "count  57116.000000  \n",
       "mean      96.941060  \n",
       "std      270.411899  \n",
       "min        0.000000  \n",
       "25%        7.600000  \n",
       "50%       26.265000  \n",
       "75%       88.000000  \n",
       "max    19656.530000  \n",
       "\n",
       "[8 rows x 30 columns]"
      ]
     },
     "execution_count": 5,
     "metadata": {},
     "output_type": "execute_result"
    }
   ],
   "source": [
    "# no null values\n",
    "train_data.describe()"
   ]
  },
  {
   "cell_type": "code",
   "execution_count": 6,
   "metadata": {},
   "outputs": [
    {
     "data": {
      "text/plain": [
       "Time      0\n",
       "V1        0\n",
       "V2        0\n",
       "V3        0\n",
       "V4        0\n",
       "V5        0\n",
       "V6        0\n",
       "V7        0\n",
       "V8        0\n",
       "V9        0\n",
       "V10       0\n",
       "V11       0\n",
       "V12       0\n",
       "V13       0\n",
       "V14       0\n",
       "V15       0\n",
       "V16       0\n",
       "V17       0\n",
       "V18       0\n",
       "V19       0\n",
       "V20       0\n",
       "V21       0\n",
       "V22       0\n",
       "V23       0\n",
       "V24       0\n",
       "V25       0\n",
       "V26       0\n",
       "V27       0\n",
       "V28       0\n",
       "Amount    0\n",
       "dtype: int64"
      ]
     },
     "execution_count": 6,
     "metadata": {},
     "output_type": "execute_result"
    }
   ],
   "source": [
    "# no null values in the dataset\n",
    "train_data.isnull().sum()"
   ]
  },
  {
   "cell_type": "code",
   "execution_count": 7,
   "metadata": {},
   "outputs": [
    {
     "name": "stdout",
     "output_type": "stream",
     "text": [
      "0.0    56974\n",
      "1.0      142\n",
      "Name: Class, dtype: int64\n"
     ]
    },
    {
     "data": {
      "text/plain": [
       "<AxesSubplot:xlabel='Class', ylabel='count'>"
      ]
     },
     "execution_count": 7,
     "metadata": {},
     "output_type": "execute_result"
    },
    {
     "data": {
      "image/png": "[encoded data removed]",
      "text/plain": [
       "<Figure size 432x288 with 1 Axes>"
      ]
     },
     "metadata": {
      "needs_background": "light"
     },
     "output_type": "display_data"
    }
   ],
   "source": [
    "# highly imbalanced dataset\n",
    "print(train_class['Class'].value_counts())\n",
    "sns.countplot(train_class[\"Class\"])"
   ]
  },
  {
   "cell_type": "code",
   "execution_count": 8,
   "metadata": {},
   "outputs": [
    {
     "data": {
      "text/html": [
       "<div>\n",
       "<style scoped>\n",
       "    .dataframe tbody tr th:only-of-type {\n",
       "        vertical-align: middle;\n",
       "    }\n",
       "\n",
       "    .dataframe tbody tr th {\n",
       "        vertical-align: top;\n",
       "    }\n",
       "\n",
       "    .dataframe thead th {\n",
       "        text-align: right;\n",
       "    }\n",
       "</style>\n",
       "<table border=\"1\" class=\"dataframe\">\n",
       "  <thead>\n",
       "    <tr style=\"text-align: right;\">\n",
       "      <th></th>\n",
       "      <th>V1</th>\n",
       "      <th>V2</th>\n",
       "      <th>V3</th>\n",
       "      <th>V4</th>\n",
       "      <th>V5</th>\n",
       "      <th>V6</th>\n",
       "      <th>V7</th>\n",
       "      <th>V8</th>\n",
       "      <th>V9</th>\n",
       "      <th>V10</th>\n",
       "      <th>...</th>\n",
       "      <th>V21</th>\n",
       "      <th>V22</th>\n",
       "      <th>V23</th>\n",
       "      <th>V24</th>\n",
       "      <th>V25</th>\n",
       "      <th>V26</th>\n",
       "      <th>V27</th>\n",
       "      <th>V28</th>\n",
       "      <th>scaled_amount</th>\n",
       "      <th>scaled_time</th>\n",
       "    </tr>\n",
       "  </thead>\n",
       "  <tbody>\n",
       "    <tr>\n",
       "      <th>0</th>\n",
       "      <td>1.086640</td>\n",
       "      <td>0.148385</td>\n",
       "      <td>0.120522</td>\n",
       "      <td>0.974415</td>\n",
       "      <td>-0.035925</td>\n",
       "      <td>-0.406007</td>\n",
       "      <td>0.270339</td>\n",
       "      <td>-0.139679</td>\n",
       "      <td>-0.411854</td>\n",
       "      <td>0.122070</td>\n",
       "      <td>...</td>\n",
       "      <td>0.112405</td>\n",
       "      <td>0.221430</td>\n",
       "      <td>-0.226960</td>\n",
       "      <td>0.046246</td>\n",
       "      <td>0.708183</td>\n",
       "      <td>-0.336475</td>\n",
       "      <td>0.002364</td>\n",
       "      <td>0.021463</td>\n",
       "      <td>0.619838</td>\n",
       "      <td>0.742537</td>\n",
       "    </tr>\n",
       "    <tr>\n",
       "      <th>1</th>\n",
       "      <td>1.294054</td>\n",
       "      <td>0.152664</td>\n",
       "      <td>0.195524</td>\n",
       "      <td>0.540694</td>\n",
       "      <td>-0.267245</td>\n",
       "      <td>-0.691144</td>\n",
       "      <td>0.001673</td>\n",
       "      <td>-0.175527</td>\n",
       "      <td>0.179203</td>\n",
       "      <td>-0.032250</td>\n",
       "      <td>...</td>\n",
       "      <td>0.055098</td>\n",
       "      <td>0.213211</td>\n",
       "      <td>-0.163730</td>\n",
       "      <td>-0.064862</td>\n",
       "      <td>0.606466</td>\n",
       "      <td>0.504450</td>\n",
       "      <td>-0.033823</td>\n",
       "      <td>0.006327</td>\n",
       "      <td>-0.252674</td>\n",
       "      <td>-0.201450</td>\n",
       "    </tr>\n",
       "    <tr>\n",
       "      <th>2</th>\n",
       "      <td>-0.352305</td>\n",
       "      <td>0.614321</td>\n",
       "      <td>2.000903</td>\n",
       "      <td>-0.403523</td>\n",
       "      <td>-0.409279</td>\n",
       "      <td>-0.395518</td>\n",
       "      <td>0.094420</td>\n",
       "      <td>0.066611</td>\n",
       "      <td>0.995869</td>\n",
       "      <td>-0.783621</td>\n",
       "      <td>...</td>\n",
       "      <td>0.055236</td>\n",
       "      <td>0.312846</td>\n",
       "      <td>-0.146312</td>\n",
       "      <td>0.317882</td>\n",
       "      <td>-0.307554</td>\n",
       "      <td>0.975876</td>\n",
       "      <td>-0.047407</td>\n",
       "      <td>0.033127</td>\n",
       "      <td>-0.140734</td>\n",
       "      <td>-1.580826</td>\n",
       "    </tr>\n",
       "    <tr>\n",
       "      <th>3</th>\n",
       "      <td>-2.049784</td>\n",
       "      <td>1.004759</td>\n",
       "      <td>1.726403</td>\n",
       "      <td>1.600998</td>\n",
       "      <td>-1.121759</td>\n",
       "      <td>0.421037</td>\n",
       "      <td>-0.768145</td>\n",
       "      <td>1.133876</td>\n",
       "      <td>1.207850</td>\n",
       "      <td>-0.764514</td>\n",
       "      <td>...</td>\n",
       "      <td>0.085733</td>\n",
       "      <td>0.445599</td>\n",
       "      <td>-0.234451</td>\n",
       "      <td>0.040248</td>\n",
       "      <td>0.325920</td>\n",
       "      <td>-0.050118</td>\n",
       "      <td>0.257527</td>\n",
       "      <td>-0.015911</td>\n",
       "      <td>0.626057</td>\n",
       "      <td>-0.874776</td>\n",
       "    </tr>\n",
       "    <tr>\n",
       "      <th>4</th>\n",
       "      <td>-0.289738</td>\n",
       "      <td>0.880936</td>\n",
       "      <td>1.787349</td>\n",
       "      <td>0.887265</td>\n",
       "      <td>0.125174</td>\n",
       "      <td>-0.845201</td>\n",
       "      <td>1.256896</td>\n",
       "      <td>-0.632290</td>\n",
       "      <td>-0.260688</td>\n",
       "      <td>0.284519</td>\n",
       "      <td>...</td>\n",
       "      <td>0.062741</td>\n",
       "      <td>0.503452</td>\n",
       "      <td>-0.202127</td>\n",
       "      <td>0.709686</td>\n",
       "      <td>-0.190366</td>\n",
       "      <td>-0.386543</td>\n",
       "      <td>-0.305748</td>\n",
       "      <td>-0.307859</td>\n",
       "      <td>0.053172</td>\n",
       "      <td>0.019862</td>\n",
       "    </tr>\n",
       "  </tbody>\n",
       "</table>\n",
       "<p>5 rows × 30 columns</p>\n",
       "</div>"
      ],
      "text/plain": [
       "         V1        V2        V3        V4        V5        V6        V7  \\\n",
       "0  1.086640  0.148385  0.120522  0.974415 -0.035925 -0.406007  0.270339   \n",
       "1  1.294054  0.152664  0.195524  0.540694 -0.267245 -0.691144  0.001673   \n",
       "2 -0.352305  0.614321  2.000903 -0.403523 -0.409279 -0.395518  0.094420   \n",
       "3 -2.049784  1.004759  1.726403  1.600998 -1.121759  0.421037 -0.768145   \n",
       "4 -0.289738  0.880936  1.787349  0.887265  0.125174 -0.845201  1.256896   \n",
       "\n",
       "         V8        V9       V10  ...       V21       V22       V23       V24  \\\n",
       "0 -0.139679 -0.411854  0.122070  ...  0.112405  0.221430 -0.226960  0.046246   \n",
       "1 -0.175527  0.179203 -0.032250  ...  0.055098  0.213211 -0.163730 -0.064862   \n",
       "2  0.066611  0.995869 -0.783621  ...  0.055236  0.312846 -0.146312  0.317882   \n",
       "3  1.133876  1.207850 -0.764514  ...  0.085733  0.445599 -0.234451  0.040248   \n",
       "4 -0.632290 -0.260688  0.284519  ...  0.062741  0.503452 -0.202127  0.709686   \n",
       "\n",
       "        V25       V26       V27       V28  scaled_amount  scaled_time  \n",
       "0  0.708183 -0.336475  0.002364  0.021463       0.619838     0.742537  \n",
       "1  0.606466  0.504450 -0.033823  0.006327      -0.252674    -0.201450  \n",
       "2 -0.307554  0.975876 -0.047407  0.033127      -0.140734    -1.580826  \n",
       "3  0.325920 -0.050118  0.257527 -0.015911       0.626057    -0.874776  \n",
       "4 -0.190366 -0.386543 -0.305748 -0.307859       0.053172     0.019862  \n",
       "\n",
       "[5 rows x 30 columns]"
      ]
     },
     "execution_count": 8,
     "metadata": {},
     "output_type": "execute_result"
    }
   ],
   "source": [
    "# Scaling the data: RobustScaler is less prone to outliers.\n",
    "rob_scaler = RobustScaler()\n",
    "\n",
    "train_data['scaled_amount'] = rob_scaler.fit_transform(\n",
    "    train_data['Amount'].values.reshape(-1, 1))\n",
    "\n",
    "train_data['scaled_time'] = rob_scaler.fit_transform(\n",
    "    train_data['Time'].values.reshape(-1, 1))\n",
    "    \n",
    "train_data.drop(['Time', 'Amount'], axis=1, inplace=True)\n",
    "\n",
    "# visualize the data\n",
    "train_data.head()\n"
   ]
  },
  {
   "cell_type": "code",
   "execution_count": 9,
   "metadata": {},
   "outputs": [
    {
     "name": "stdout",
     "output_type": "stream",
     "text": [
      "Legit: 142 & Fraud : 56974\n"
     ]
    }
   ],
   "source": [
    "# merge the train data and labels\n",
    "traind = train_data.copy()\n",
    "traind['Class'] = train_class['Class']\n",
    "\n",
    "# this is an unbalanced dataset\n",
    "legit = traind[traind[\"Class\"] == 0]\n",
    "fraud = traind[traind[\"Class\"] == 1]\n",
    "\n",
    "# print the legit and fraud transactions\n",
    "print(\n",
    "    f'Legit: {fraud.Class.value_counts()[1]} & Fraud : {legit.Class.value_counts()[0]}')\n"
   ]
  },
  {
   "cell_type": "code",
   "execution_count": 10,
   "metadata": {},
   "outputs": [],
   "source": [
    "# split the data with the ratio of both the classes same\n",
    "split = StratifiedShuffleSplit(n_splits=1, test_size=0.3, random_state=42)\n",
    "for train_index, test_index in split.split(traind, traind['Class']):\n",
    "    X_train = traind.loc[train_index]\n",
    "    X_test = traind.loc[test_index]\n",
    "\n",
    "# labels\n",
    "Y_train = pd.DataFrame(X_train['Class'])\n",
    "Y_test = pd.DataFrame(X_test['Class'])\n",
    "\n",
    "# drop the class labels from the training and test data\n",
    "X_train.drop(columns=\"Class\", inplace=True)\n",
    "X_test.drop(columns=\"Class\", inplace=True)"
   ]
  },
  {
   "cell_type": "code",
   "execution_count": 11,
   "metadata": {},
   "outputs": [
    {
     "name": "stdout",
     "output_type": "stream",
     "text": [
      "0.0    39882\n",
      "1.0       99\n",
      "Name: Class, dtype: int64\n"
     ]
    },
    {
     "data": {
      "text/plain": [
       "0.0    17092\n",
       "1.0       43\n",
       "Name: Class, dtype: int64"
      ]
     },
     "execution_count": 11,
     "metadata": {},
     "output_type": "execute_result"
    }
   ],
   "source": [
    "print(Y_train['Class'].value_counts())\n",
    "Y_test['Class'].value_counts()"
   ]
  },
  {
   "cell_type": "markdown",
   "metadata": {},
   "source": [
    "### Feature Engineering or Feature Selection"
   ]
  },
  {
   "cell_type": "code",
   "execution_count": 12,
   "metadata": {},
   "outputs": [
    {
     "data": {
      "text/plain": [
       "V14              0.012491\n",
       "V17              0.012375\n",
       "V12              0.012040\n",
       "V11              0.011871\n",
       "V10              0.011587\n",
       "V4               0.010008\n",
       "V16              0.009806\n",
       "V3               0.009267\n",
       "V9               0.008544\n",
       "V18              0.008458\n",
       "V7               0.007947\n",
       "V2               0.006906\n",
       "V6               0.005889\n",
       "V27              0.005606\n",
       "V21              0.005508\n",
       "V5               0.005429\n",
       "V1               0.004988\n",
       "V8               0.004642\n",
       "V28              0.004378\n",
       "scaled_amount    0.003185\n",
       "V20              0.002812\n",
       "V19              0.002511\n",
       "scaled_time      0.002371\n",
       "V25              0.001892\n",
       "V23              0.001511\n",
       "V26              0.001239\n",
       "V24              0.000958\n",
       "V15              0.000657\n",
       "V22              0.000291\n",
       "V13              0.000178\n",
       "dtype: float64"
      ]
     },
     "execution_count": 12,
     "metadata": {},
     "output_type": "execute_result"
    }
   ],
   "source": [
    "# feature importance\n",
    "mutual_info = mutual_info_classif(X_train, Y_train)\n",
    "mutual_info = pd.Series(mutual_info)\n",
    "mutual_info.index = X_train.columns\n",
    "mutual_info.sort_values(ascending = False)"
   ]
  },
  {
   "cell_type": "code",
   "execution_count": 13,
   "metadata": {},
   "outputs": [
    {
     "data": {
      "text/plain": [
       "<AxesSubplot:>"
      ]
     },
     "execution_count": 13,
     "metadata": {},
     "output_type": "execute_result"
    },
    {
     "data": {
      "image/png": "[encoded data removed]",
      "text/plain": [
       "<Figure size 1440x576 with 1 Axes>"
      ]
     },
     "metadata": {
      "needs_background": "light"
     },
     "output_type": "display_data"
    }
   ],
   "source": [
    "# visualize the feature importance\n",
    "mutual_info.sort_values(ascending=False).plot.bar(figsize=(20,8))"
   ]
  },
  {
   "cell_type": "code",
   "execution_count": 14,
   "metadata": {},
   "outputs": [],
   "source": [
    "# select top 15 features\n",
    "selector = SelectKBest(mutual_info_classif, k=5)\n",
    "selector.fit(X_train, Y_train)\n",
    "\n",
    "# Get columns to keep and create new dataframe - \"new_train\"\n",
    "cols = selector.get_support(indices=True)\n",
    "\n",
    "# new dataframes\n",
    "new_train = X_train.iloc[:,cols]\n",
    "new_test = X_test.iloc[:,cols]"
   ]
  },
  {
   "cell_type": "markdown",
   "metadata": {},
   "source": [
    "### Model Training"
   ]
  },
  {
   "cell_type": "code",
   "execution_count": 15,
   "metadata": {},
   "outputs": [],
   "source": [
    "# Model training\n",
    "dt = DecisionTreeClassifier()\n",
    "dt.fit(new_train, Y_train)\n",
    "test_pred = dt.predict(new_test)"
   ]
  },
  {
   "cell_type": "code",
   "execution_count": 16,
   "metadata": {},
   "outputs": [
    {
     "name": "stdout",
     "output_type": "stream",
     "text": [
      "On training data, DT has a AUCROC Score of: 100.0\n",
      "On test data, DT has a AUCROC Score of: 90.67134631188806\n"
     ]
    }
   ],
   "source": [
    "# AUC ROC scores on the training and test dataset\n",
    "AUC_ROC_Score = roc_auc_score(Y_train, dt.predict_proba(new_train)[:, 1])\n",
    "print(\"On training data, DT has a AUCROC Score of:\", AUC_ROC_Score * 100)\n",
    "\n",
    "AUC_ROC_Score = roc_auc_score(Y_test, dt.predict_proba(new_test)[:, 1])\n",
    "print(\"On test data, DT has a AUCROC Score of:\", AUC_ROC_Score * 100)"
   ]
  },
  {
   "cell_type": "markdown",
   "metadata": {},
   "source": [
    "### Hyper-parameter tuning to overcome Overfitting"
   ]
  },
  {
   "cell_type": "code",
   "execution_count": 17,
   "metadata": {},
   "outputs": [],
   "source": [
    "# Overfitting can be seen clearly\n",
    "params = {\n",
    "    \"criterion\": [\"gini\", \"entropy\"],\n",
    "    \"max_depth\": range(1, 20),\n",
    "    'max_features': ('auto', 'sqrt', 'log2'),\n",
    "    # 'ccp_alpha': (for later)\n",
    "}\n",
    "grid = GridSearchCV(dt, param_grid=params, cv=10,\n",
    "                    scoring='roc_auc')  # 10 fold cross-validation\n"
   ]
  },
  {
   "cell_type": "code",
   "execution_count": null,
   "metadata": {},
   "outputs": [],
   "source": [
    "grid.fit(new_train, Y_train)"
   ]
  },
  {
   "cell_type": "code",
   "execution_count": null,
   "metadata": {},
   "outputs": [],
   "source": [
    "new_dt = grid.best_estimator_\n",
    "new_dt"
   ]
  },
  {
   "cell_type": "code",
   "execution_count": null,
   "metadata": {},
   "outputs": [],
   "source": [
    "# estimating pruning alpha values\n",
    "path = new_dt.cost_complexity_pruning_path(new_train, Y_train)\n",
    "ccp_alphas, impurities = path.ccp_alphas, path.impurities"
   ]
  },
  {
   "cell_type": "code",
   "execution_count": null,
   "metadata": {},
   "outputs": [],
   "source": [
    "ccp_alphas"
   ]
  },
  {
   "cell_type": "code",
   "execution_count": null,
   "metadata": {},
   "outputs": [],
   "source": [
    "clfs = []\n",
    "for ccp_alpha in ccp_alphas:\n",
    "    clf = DecisionTreeClassifier(random_state=0, ccp_alpha=ccp_alpha)\n",
    "    clf.fit(new_train, Y_train)\n",
    "    clfs.append(clf)"
   ]
  },
  {
   "cell_type": "code",
   "execution_count": null,
   "metadata": {},
   "outputs": [],
   "source": [
    "train_scores = [roc_auc_score(\n",
    "    Y_train, clf.predict_proba(new_train)[:, 1]) for clf in clfs]\n",
    "test_scores = [roc_auc_score(Y_test, clf.predict_proba(new_test)[\n",
    "                             :, 1]) for clf in clfs]\n",
    "\n",
    "fig, ax = plt.subplots()\n",
    "ax.set_xlabel(\"alpha\")\n",
    "ax.set_ylabel(\"AUCROC\")\n",
    "ax.set_title(\"AUCROC vs alpha for training and testing sets\")\n",
    "ax.plot(ccp_alphas, train_scores, marker='o', label=\"train\",\n",
    "        drawstyle=\"steps-post\")\n",
    "ax.plot(ccp_alphas, test_scores, marker='o', label=\"test\",\n",
    "        drawstyle=\"steps-post\")\n",
    "ax.legend()\n",
    "plt.show()"
   ]
  },
  {
   "cell_type": "code",
   "execution_count": null,
   "metadata": {},
   "outputs": [],
   "source": [
    "# get the best ccp_alpha value with lowest bias and variance\n",
    "min = train_scores[0]-test_scores[0]\n",
    "count = 0\n",
    "for (i, j) in zip(train_scores, test_scores):\n",
    "    if (i-j) != 0 and (i-j) < min:\n",
    "        min = i-j\n",
    "        tr = i\n",
    "        tt = j\n",
    "        index = count\n",
    "    count = count + 1\n",
    "\n",
    "print(\n",
    "    f\"Difference in AUCROC score: {min*100}\\nScore on training dataset: {tr*100}\\nScore on test dataset: {tt*100}\\nIndex of ccp_alpha: {index}\")\n"
   ]
  },
  {
   "cell_type": "code",
   "execution_count": null,
   "metadata": {},
   "outputs": [],
   "source": [
    "ccp_alphas[index]"
   ]
  },
  {
   "cell_type": "code",
   "execution_count": null,
   "metadata": {},
   "outputs": [],
   "source": [
    "clf = DecisionTreeClassifier(random_state=0, ccp_alpha=ccp_alphas[index])\n",
    "clf.fit(new_train, Y_train)"
   ]
  },
  {
   "cell_type": "code",
   "execution_count": null,
   "metadata": {},
   "outputs": [],
   "source": [
    "Y_predicted = clf.predict(new_test)\n",
    "Y_pred_train = clf.predict(new_train)"
   ]
  },
  {
   "cell_type": "markdown",
   "metadata": {},
   "source": [
    "### Evaluation"
   ]
  },
  {
   "cell_type": "code",
   "execution_count": null,
   "metadata": {},
   "outputs": [],
   "source": [
    "# AUC ROC scores on the training and test dataset\n",
    "AUC_ROC_Score = roc_auc_score(Y_train, clf.predict_proba(new_train)[:, 1])\n",
    "print(\"On training data, DT has a AUCROC Score of:\", AUC_ROC_Score * 100)\n",
    "\n",
    "AUC_ROC_Score = roc_auc_score(Y_test, clf.predict_proba(new_test)[:, 1])\n",
    "print(\"On test data, DT has a AUCROC Score of:\", AUC_ROC_Score * 100)"
   ]
  },
  {
   "cell_type": "code",
   "execution_count": null,
   "metadata": {},
   "outputs": [],
   "source": [
    "print('\\n Confusion Matrix \\n')\n",
    "print(confusion_matrix(Y_predicted, Y_test))\n",
    "\n",
    "ac = accuracy_score(Y_test, Y_predicted)\n",
    "print('\\n Macro Averaged Accuracy :'+str(ac))\n",
    "\n",
    "pr = precision_score(Y_test, Y_predicted, average='macro')\n",
    "print('\\n Macro Averaged Precision :'+str(pr))\n",
    "\n",
    "re = recall_score(Y_test, Y_predicted, average='macro')\n",
    "print('\\n Macro Averaged Recall :'+str(re))\n",
    "\n",
    "fm = f1_score(Y_test, Y_predicted, average='macro')\n",
    "print('\\n Macro Averaged F1-Score :'+str(fm))\n",
    "\n",
    "fm = f1_score(Y_train, Y_pred_train, average='macro')\n",
    "print('\\n Macro Averaged F1-Score on training :'+str(fm))\n",
    "\n",
    "fm = f1_score(Y_test, Y_predicted, average='micro')\n",
    "print('\\n Micro Averaged F1-Score:'+str(fm))\n"
   ]
  },
  {
   "cell_type": "code",
   "execution_count": null,
   "metadata": {},
   "outputs": [],
   "source": [
    "#calculate precision and recall\n",
    "precision, recall, thresholds = precision_recall_curve(Y_test, Y_predicted)\n",
    "\n",
    "#create precision recall curve\n",
    "fig, ax = plt.subplots()\n",
    "ax.plot(recall, precision, color='purple')\n",
    "\n",
    "#add axis labels to plot\n",
    "ax.set_title('Precision-Recall Curve')\n",
    "ax.set_ylabel('Precision')\n",
    "ax.set_xlabel('Recall')\n",
    "\n",
    "#display plot\n",
    "plt.show()"
   ]
  },
  {
   "cell_type": "code",
   "execution_count": null,
   "metadata": {},
   "outputs": [],
   "source": [
    "plt.figure(figsize=(25, 10))\n",
    "tree.plot_tree(clf, filled=True)\n"
   ]
  },
  {
   "cell_type": "markdown",
   "metadata": {},
   "source": [
    "### Random Forest - Model Training"
   ]
  },
  {
   "cell_type": "code",
   "execution_count": null,
   "metadata": {},
   "outputs": [],
   "source": [
    "rf = RandomForestClassifier()\n",
    "\n",
    "# training the random forest model on original features\n",
    "rf = rf.fit(X_train, Y_train)\n"
   ]
  },
  {
   "cell_type": "markdown",
   "metadata": {},
   "source": [
    "### Evaluation"
   ]
  },
  {
   "cell_type": "code",
   "execution_count": null,
   "metadata": {},
   "outputs": [],
   "source": [
    "# AUC ROC scores on the training and test dataset\n",
    "AUC_ROC_Score = roc_auc_score(Y_train, rf.predict_proba(X_train)[:, 1])\n",
    "print(\"On training data, DT has a AUCROC Score of:\", AUC_ROC_Score * 100)\n",
    "\n",
    "AUC_ROC_Score = roc_auc_score(Y_test, rf.predict_proba(X_test)[:, 1])\n",
    "print(\"On test data, DT has a AUCROC Score of:\", AUC_ROC_Score * 100)"
   ]
  },
  {
   "cell_type": "code",
   "execution_count": null,
   "metadata": {},
   "outputs": [],
   "source": [
    "Y_predicted = rf.predict(X_test)\n",
    "Y_pred_train = rf.predict(X_train)"
   ]
  },
  {
   "cell_type": "code",
   "execution_count": null,
   "metadata": {},
   "outputs": [],
   "source": [
    "print('\\n Confusion Matrix \\n')\n",
    "print(confusion_matrix(Y_predicted, Y_test))\n",
    "\n",
    "ac = accuracy_score(Y_test, Y_predicted)\n",
    "print('\\n Macro Averaged Accuracy :'+str(ac))\n",
    "\n",
    "pr = precision_score(Y_test, Y_predicted, average='macro')\n",
    "print('\\n Macro Averaged Precision :'+str(pr))\n",
    "\n",
    "re = recall_score(Y_test, Y_predicted, average='macro')\n",
    "print('\\n Macro Averaged Recall :'+str(re))\n",
    "\n",
    "fm = f1_score(Y_test, Y_predicted, average='macro')\n",
    "print('\\n Macro Averaged F1-Score :'+str(fm))\n",
    "\n",
    "fm = f1_score(Y_test, Y_predicted, average='micro')\n",
    "print('\\n Micro Averaged F1-Score:'+str(fm))\n"
   ]
  },
  {
   "cell_type": "code",
   "execution_count": null,
   "metadata": {
    "scrolled": true
   },
   "outputs": [],
   "source": [
    "#calculate precision and recall\n",
    "precision, recall, thresholds = precision_recall_curve(Y_test, Y_predicted)\n",
    "\n",
    "#create precision recall curve\n",
    "fig, ax = plt.subplots()\n",
    "ax.plot(recall, precision, color='purple')\n",
    "\n",
    "#add axis labels to plot\n",
    "ax.set_title('Precision-Recall Curve')\n",
    "ax.set_ylabel('Precision')\n",
    "ax.set_xlabel('Recall')\n",
    "\n",
    "#display plot\n",
    "plt.show()"
   ]
  },
  {
   "cell_type": "code",
   "execution_count": null,
   "metadata": {},
   "outputs": [],
   "source": [
    "from sklearn.model_selection import cross_val_score\n",
    "\n",
    "\n",
    "def train_model():\n",
    "    \n",
    "    for key, model in models.items():\n",
    "        model.fit(X_train,Y_train)\n",
    "        #cv_score = cross_val_score(model,X_train,Y_train,cv=5)\n",
    "        #print(key, \"has a training Cross Val score of\", round(cv_score.mean(), 2) * 100, \"% accuracy score\")\n",
    "        AUC_ROC_Score= roc_auc_score(Y_train, model.predict_proba(X_train)[:, 1])\n",
    "        #AUC_PRC_Score=precision_recall_curve(Y_train, model1.predict_proba(X_train)[:, 1])\n",
    "        print(key, \"has a AUCROC Score of\", AUC_ROC_Score)\n",
    "        #print(key, \"has a AUCPRC Score of\", AUC_PRC_Score * 100)\n",
    "        \n",
    "train_model()"
   ]
  },
  {
   "cell_type": "markdown",
   "metadata": {},
   "source": [
    "### Logistic Regression"
   ]
  },
  {
   "cell_type": "code",
   "execution_count": null,
   "metadata": {},
   "outputs": [],
   "source": [
    "from sklearn.linear_model import LogisticRegression\n",
    "model=LogisticRegression(solver='liblinear')"
   ]
  },
  {
   "cell_type": "code",
   "execution_count": null,
   "metadata": {},
   "outputs": [],
   "source": [
    "Y_train_pred = model1.fit(X_train, Y_train).predict(X_train)\n",
    "train_acc = accuracy_score(Y_train_pred, Y_train)\n",
    "train_acc"
   ]
  },
  {
   "cell_type": "code",
   "execution_count": null,
   "metadata": {},
   "outputs": [],
   "source": [
    "Y_test_pred = model1.predict(X_test)\n",
    "test_acc = accuracy_score(Y_test_pred, Y_test)\n",
    "test_acc"
   ]
  },
  {
   "cell_type": "markdown",
   "metadata": {},
   "source": [
    "### Test Data"
   ]
  },
  {
   "cell_type": "code",
   "execution_count": null,
   "metadata": {},
   "outputs": [],
   "source": [
    "# Scaling the data: RobustScaler is less prone to outliers.\n",
    "test_data['scaled_amount'] = rob_scaler.fit_transform(\n",
    "    test_data['Amount'].values.reshape(-1, 1))\n",
    "\n",
    "test_data['scaled_time'] = rob_scaler.fit_transform(\n",
    "    test_data['Time'].values.reshape(-1, 1))\n",
    "    \n",
    "test_data.drop(['Time', 'Amount'], axis=1, inplace=True)\n",
    "\n",
    "# visualize the data\n",
    "test_data.head()"
   ]
  },
  {
   "cell_type": "code",
   "execution_count": null,
   "metadata": {},
   "outputs": [],
   "source": [
    "# test data has null values\n",
    "test_data.isnull().sum()"
   ]
  },
  {
   "cell_type": "code",
   "execution_count": null,
   "metadata": {},
   "outputs": [],
   "source": [
    "# Using imputer to put median of the feature in place of null values\n",
    "from sklearn.impute import SimpleImputer\n",
    "imputer = SimpleImputer(strategy=\"median\")\n",
    "imputer.fit(test_data)\n",
    "X = imputer.transform(test_data)"
   ]
  },
  {
   "cell_type": "code",
   "execution_count": null,
   "metadata": {},
   "outputs": [],
   "source": [
    "tester = pd.DataFrame(X, columns=test_data.columns)"
   ]
  },
  {
   "cell_type": "code",
   "execution_count": null,
   "metadata": {},
   "outputs": [],
   "source": [
    "tester.isnull().sum()"
   ]
  },
  {
   "cell_type": "code",
   "execution_count": null,
   "metadata": {},
   "outputs": [],
   "source": [
    "tester"
   ]
  },
  {
   "cell_type": "code",
   "execution_count": null,
   "metadata": {},
   "outputs": [],
   "source": [
    "# predicting the classes of the test data\n",
    "pred_test_data = rf.predict(tester)"
   ]
  },
  {
   "cell_type": "code",
   "execution_count": null,
   "metadata": {},
   "outputs": [],
   "source": [
    "df = pd.DataFrame(pred_test_data, columns = ['Class'])"
   ]
  },
  {
   "cell_type": "code",
   "execution_count": null,
   "metadata": {},
   "outputs": [],
   "source": [
    "print(df['Class'].value_counts())"
   ]
  }
 ],
 "metadata": {
  "interpreter": {
   "hash": "4a15a8350f781044c0a330f52c29cbc032f750b45230b27500680e010145e1d1"
  },
  "kernelspec": {
   "display_name": "Python 3",
   "language": "python",
   "name": "python3"
  },
  "language_info": {
   "codemirror_mode": {
    "name": "ipython",
    "version": 3
   },
   "file_extension": ".py",
   "mimetype": "text/x-python",
   "name": "python",
   "nbconvert_exporter": "python",
   "pygments_lexer": "ipython3",
   "version": "3.8.5"
  }
 },
 "nbformat": 4,
 "nbformat_minor": 2
}
